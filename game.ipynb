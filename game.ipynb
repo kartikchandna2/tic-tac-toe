{
 "cells": [
  {
   "cell_type": "code",
   "execution_count": 199,
   "id": "5ca283eb",
   "metadata": {},
   "outputs": [],
   "source": [
    "players = ['X', 'O']\n",
    "str1 = [\" \", \" \", \" \"]\n",
    "str2 = [\" \", \" \", \" \"]\n",
    "str3 = [\" \", \" \", \" \"]"
   ]
  },
  {
   "cell_type": "code",
   "execution_count": 200,
   "id": "8d7fe4c5",
   "metadata": {},
   "outputs": [],
   "source": [
    "def game_init(players):\n",
    "    player1 = 'wrong'\n",
    "    while player1 not in players:\n",
    "        player1 = input(\"Player 1, what would you like to play as? (X/O) \")\n",
    "        if player1 not in players:\n",
    "            print(\"Please choose again from the given options\")\n",
    "        if player1 == 'X':\n",
    "            print(\"Player 1 chooses X.\\nSo Player 1 goes first\")\n",
    "        elif player1 == 'O':\n",
    "            print(\"Player 1 chooses O.\\nSo Player 2 goes first\")\n",
    "    return player1\n",
    "    "
   ]
  },
  {
   "cell_type": "code",
   "execution_count": 201,
   "id": "5aec404f",
   "metadata": {},
   "outputs": [],
   "source": [
    "def player(player1):\n",
    "    input_range = range(1,10)\n",
    "    input1 = 'wrong'\n",
    "         \n",
    "    while input1 not in input_range:\n",
    "      \n",
    "        if player1 == 'X':\n",
    "            input1 = int(input(\"Player 1 make your first move. Choose the position (1-9): \"))\n",
    "        else:\n",
    "            input1 = int(input(\"Player 2 make your first move. Choose the position (1-9): \"))\n",
    "        if input1 not in input_range:\n",
    "            print(\"Please enter a valid number\")\n",
    "        format1(player1, input1)\n",
    "    while checkForWinner() == False:\n",
    "        \n",
    "        input2 = 'wrong'\n",
    "        \n",
    "            \n",
    "        if player1 == 'X':\n",
    "            player1 = 'O'\n",
    "            while input2 not in input_range:\n",
    "                input2 = int(input(\"Make the next move for {}. Choose the position (1-9): \" .format(player1)))\n",
    "                if input2 not in input_range or checkIfFilled(input2):\n",
    "                    input2 = 'wrong'\n",
    "                    print(\"Please enter a valid number\")\n",
    "        else:\n",
    "            player1 = 'X'\n",
    "            while input2 not in input_range:\n",
    "                input2 = int(input(\"Make the next move for {}. Choose the position (1-9): \" .format(player1)))\n",
    "                if input2 not in input_range or checkIfFilled(input2):\n",
    "                    input2 = 'wrong'\n",
    "                    print(\"Please enter a valid number\")\n",
    "        \n",
    "        format1(player1, input2)\n",
    "        if checkForDraw():\n",
    "            break;\n",
    "            \n",
    "    if checkForWinner() == False:\n",
    "        \n",
    "        print(\"We have a draw\")\n",
    "        str1 = [\" \", \" \", \" \"]\n",
    "        str2 = [\" \", \" \", \" \"]\n",
    "        str3 = [\" \", \" \", \" \"]\n",
    "    else:\n",
    "        print(\"We have a winner\")\n",
    "        str1 = [\" \", \" \", \" \"]\n",
    "        str2 = [\" \", \" \", \" \"]\n",
    "        str3 = [\" \", \" \", \" \"]"
   ]
  },
  {
   "cell_type": "code",
   "execution_count": 202,
   "id": "27df0e77",
   "metadata": {},
   "outputs": [],
   "source": [
    "def format1(player1, input1):\n",
    "    if input1 in range(1, 4):\n",
    "        str1[input1-1] = player1\n",
    "    if input1 in range(4, 7):\n",
    "        str2[input1-4] = player1\n",
    "    if input1 in range(7, 10):\n",
    "        str3[input1-7] = player1\n",
    "    print(str1)\n",
    "    print(str2)\n",
    "    print(str3)"
   ]
  },
  {
   "cell_type": "code",
   "execution_count": 203,
   "id": "eef4c198",
   "metadata": {},
   "outputs": [],
   "source": [
    "def checkForWinner():\n",
    "    if ((str1[0]== 'X' and str1[1] == 'X' and str1[2] == 'X') or (str2[0]== 'X' and str2[1] == 'X' and str2[2] == 'X') or (str3[0]== 'X' and str3[1] == 'X' and str3[2] == 'X') or (str1[0]== 'X' and str2[0] == 'X' and str3[0] == 'X') or (str1[1]== 'X' and str2[1] == 'X' and str3[1] == 'X') or (str1[2]== 'X' and str2[2] == 'X' and str3[2] == 'X') or (str1[0]== 'X' and str2[1] == 'X' and str3[2] == 'X') or (str1[2]== 'X' and str2[1] == 'X' and str3[0] == 'X')):\n",
    "        return True\n",
    "    if ((str1[0]== 'O' and str1[1] == 'O' and str1[2] == 'O') or (str2[0]== 'O' and str2[1] == 'O' and str2[2] == 'O') or (str3[0]== 'O' and str3[1] == 'O' and str3[2] == 'O') or (str1[0]== 'O' and str2[0] == 'O' and str3[0] == 'O') or (str1[1]== 'O' and str2[1] == 'O' and str3[1] == 'O') or (str1[2]== 'O' and str2[2] == 'O' and str3[2] == 'O') or (str1[0]== 'O' and str2[1] == 'O' and str3[2] == 'O') or (str1[2]== 'O' and str2[1] == 'O' and str3[0] == 'O')):\n",
    "        return True\n",
    "    return False"
   ]
  },
  {
   "cell_type": "code",
   "execution_count": null,
   "id": "410f4321",
   "metadata": {},
   "outputs": [],
   "source": []
  },
  {
   "cell_type": "code",
   "execution_count": 204,
   "id": "930d6ec9",
   "metadata": {},
   "outputs": [],
   "source": [
    "def checkForDraw():\n",
    "    if str1[0] != \" \" and str1[1] != \" \" and str1[2] != \" \" and str2[0] != \" \" and str2[1] != \" \" and str2[2] != \" \" and str3[0] != \" \" and str3[1] != \" \" and str3[2] != \" \":\n",
    "        return True"
   ]
  },
  {
   "cell_type": "code",
   "execution_count": 205,
   "id": "67974ee9",
   "metadata": {},
   "outputs": [],
   "source": [
    "def checkIfFilled(input2):\n",
    "    if input2 in range(1, 4) and str1[input2-1] == \" \":\n",
    "        return False\n",
    "    if input2 in range(4, 7) and str2[input2-4] == \" \":\n",
    "        return False\n",
    "    if input2 in range(7, 10) and str3[input2-7] == \" \":\n",
    "        return False\n",
    "    return True\n"
   ]
  },
  {
   "cell_type": "code",
   "execution_count": 206,
   "id": "2b1e9823",
   "metadata": {},
   "outputs": [
    {
     "name": "stdout",
     "output_type": "stream",
     "text": [
      "Player 1, what would you like to play as? (X/O) 5\n",
      "Please choose again from the given options\n",
      "Player 1, what would you like to play as? (X/O) X\n",
      "Player 1 chooses X.\n",
      "So Player 1 goes first\n",
      "Player 1 make your first move. Choose the position (1-9): 4\n",
      "[' ', ' ', ' ']\n",
      "['X', ' ', ' ']\n",
      "[' ', ' ', ' ']\n",
      "Make the next move for O. Choose the position (1-9): 4\n",
      "Please enter a valid number\n",
      "Make the next move for O. Choose the position (1-9): 5\n",
      "[' ', ' ', ' ']\n",
      "['X', 'O', ' ']\n",
      "[' ', ' ', ' ']\n",
      "Make the next move for X. Choose the position (1-9): 1\n",
      "['X', ' ', ' ']\n",
      "['X', 'O', ' ']\n",
      "[' ', ' ', ' ']\n",
      "Make the next move for O. Choose the position (1-9): 9\n",
      "['X', ' ', ' ']\n",
      "['X', 'O', ' ']\n",
      "[' ', ' ', 'O']\n",
      "Make the next move for X. Choose the position (1-9): 7\n",
      "['X', ' ', ' ']\n",
      "['X', 'O', ' ']\n",
      "['X', ' ', 'O']\n",
      "We have a winner\n"
     ]
    }
   ],
   "source": [
    "def main():\n",
    "    player1 = game_init(players)\n",
    "    player(player1)\n",
    "main()"
   ]
  },
  {
   "cell_type": "code",
   "execution_count": null,
   "id": "3d1936f3",
   "metadata": {},
   "outputs": [],
   "source": []
  }
 ],
 "metadata": {
  "kernelspec": {
   "display_name": "Python 3 (ipykernel)",
   "language": "python",
   "name": "python3"
  },
  "language_info": {
   "codemirror_mode": {
    "name": "ipython",
    "version": 3
   },
   "file_extension": ".py",
   "mimetype": "text/x-python",
   "name": "python",
   "nbconvert_exporter": "python",
   "pygments_lexer": "ipython3",
   "version": "3.8.10"
  }
 },
 "nbformat": 4,
 "nbformat_minor": 5
}
