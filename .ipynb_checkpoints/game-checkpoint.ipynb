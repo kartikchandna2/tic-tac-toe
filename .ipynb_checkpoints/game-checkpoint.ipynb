{
 "cells": [
  {
   "cell_type": "code",
   "execution_count": 15,
   "id": "5ca283eb",
   "metadata": {},
   "outputs": [],
   "source": [
    "players = ['X', 'O']"
   ]
  },
  {
   "cell_type": "code",
   "execution_count": 16,
   "id": "8d7fe4c5",
   "metadata": {},
   "outputs": [],
   "source": [
    "def game_init(players):\n",
    "    player1 = 'wrong'\n",
    "    while player1 not in players:\n",
    "        player1 = input(\"Player 1, what would you like to play as? (X/O) \")\n",
    "        if player1 not in players:\n",
    "            print(\"Please choose again from the given options\")\n",
    "        if player1 == 'X':\n",
    "            print(\"Player 1 chooses X.\\nSo Player 1 goes first\")\n",
    "        elif player1 == 'O':\n",
    "            print(\"Player 1 chooses O.\\nSo Player 2 goes first\")\n",
    "    return player1\n",
    "    "
   ]
  },
  {
   "cell_type": "code",
   "execution_count": 28,
   "id": "5aec404f",
   "metadata": {},
   "outputs": [],
   "source": [
    "def player(player1):\n",
    "    input_range = range(1,10)\n",
    "    input1 = 'wrong'\n",
    "    while input1 not in input_range:\n",
    "        \n",
    "        if player1 == 'X':\n",
    "            input1 = int(input(\"Player 1 make your first move. Choose the position (1-9): \"))\n",
    "        else:\n",
    "            input1 = int(input(\"Player 2 make your first move. Choose the position (1-9): \"))\n",
    "        if input1 not in input_range:\n",
    "            print(\"Please enter a valid number\")\n",
    "    return input1"
   ]
  },
  {
   "cell_type": "code",
   "execution_count": null,
   "id": "27df0e77",
   "metadata": {},
   "outputs": [],
   "source": []
  },
  {
   "cell_type": "code",
   "execution_count": null,
   "id": "eef4c198",
   "metadata": {},
   "outputs": [],
   "source": []
  },
  {
   "cell_type": "code",
   "execution_count": null,
   "id": "410f4321",
   "metadata": {},
   "outputs": [],
   "source": []
  }
 ],
 "metadata": {
  "kernelspec": {
   "display_name": "Python 3 (ipykernel)",
   "language": "python",
   "name": "python3"
  },
  "language_info": {
   "codemirror_mode": {
    "name": "ipython",
    "version": 3
   },
   "file_extension": ".py",
   "mimetype": "text/x-python",
   "name": "python",
   "nbconvert_exporter": "python",
   "pygments_lexer": "ipython3",
   "version": "3.8.10"
  }
 },
 "nbformat": 4,
 "nbformat_minor": 5
}
